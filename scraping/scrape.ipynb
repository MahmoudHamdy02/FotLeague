{
 "cells": [
  {
   "cell_type": "markdown",
   "metadata": {},
   "source": [
    "This notebook is for testing purposes, and doesn't automatically run anywhere"
   ]
  },
  {
   "cell_type": "code",
   "execution_count": 55,
   "metadata": {},
   "outputs": [],
   "source": [
    "import pandas as pd"
   ]
  },
  {
   "cell_type": "code",
   "execution_count": 2,
   "metadata": {},
   "outputs": [],
   "source": [
    "url = \"https://fbref.com/en/comps/9/schedule/Premier-League-Scores-and-Fixtures\""
   ]
  },
  {
   "cell_type": "code",
   "execution_count": 3,
   "metadata": {},
   "outputs": [],
   "source": [
    "tables = pd.read_html(url)"
   ]
  },
  {
   "cell_type": "code",
   "execution_count": 27,
   "metadata": {},
   "outputs": [],
   "source": [
    "df = tables[0]"
   ]
  },
  {
   "cell_type": "code",
   "execution_count": 28,
   "metadata": {},
   "outputs": [
    {
     "data": {
      "text/html": [
       "<div>\n",
       "<style scoped>\n",
       "    .dataframe tbody tr th:only-of-type {\n",
       "        vertical-align: middle;\n",
       "    }\n",
       "\n",
       "    .dataframe tbody tr th {\n",
       "        vertical-align: top;\n",
       "    }\n",
       "\n",
       "    .dataframe thead th {\n",
       "        text-align: right;\n",
       "    }\n",
       "</style>\n",
       "<table border=\"1\" class=\"dataframe\">\n",
       "  <thead>\n",
       "    <tr style=\"text-align: right;\">\n",
       "      <th></th>\n",
       "      <th>Wk</th>\n",
       "      <th>Day</th>\n",
       "      <th>Date</th>\n",
       "      <th>Time</th>\n",
       "      <th>Home</th>\n",
       "      <th>xG</th>\n",
       "      <th>Score</th>\n",
       "      <th>xG.1</th>\n",
       "      <th>Away</th>\n",
       "      <th>Attendance</th>\n",
       "      <th>Venue</th>\n",
       "      <th>Referee</th>\n",
       "      <th>Match Report</th>\n",
       "      <th>Notes</th>\n",
       "    </tr>\n",
       "  </thead>\n",
       "  <tbody>\n",
       "    <tr>\n",
       "      <th>0</th>\n",
       "      <td>1.0</td>\n",
       "      <td>Fri</td>\n",
       "      <td>2023-08-11</td>\n",
       "      <td>20:00</td>\n",
       "      <td>Burnley</td>\n",
       "      <td>0.3</td>\n",
       "      <td>0–3</td>\n",
       "      <td>1.9</td>\n",
       "      <td>Manchester City</td>\n",
       "      <td>21572.0</td>\n",
       "      <td>Turf Moor</td>\n",
       "      <td>Craig Pawson</td>\n",
       "      <td>Match Report</td>\n",
       "      <td>NaN</td>\n",
       "    </tr>\n",
       "    <tr>\n",
       "      <th>1</th>\n",
       "      <td>1.0</td>\n",
       "      <td>Sat</td>\n",
       "      <td>2023-08-12</td>\n",
       "      <td>12:30</td>\n",
       "      <td>Arsenal</td>\n",
       "      <td>0.8</td>\n",
       "      <td>2–1</td>\n",
       "      <td>1.2</td>\n",
       "      <td>Nott'ham Forest</td>\n",
       "      <td>59984.0</td>\n",
       "      <td>Emirates Stadium</td>\n",
       "      <td>Michael Oliver</td>\n",
       "      <td>Match Report</td>\n",
       "      <td>NaN</td>\n",
       "    </tr>\n",
       "    <tr>\n",
       "      <th>2</th>\n",
       "      <td>1.0</td>\n",
       "      <td>Sat</td>\n",
       "      <td>2023-08-12</td>\n",
       "      <td>15:00</td>\n",
       "      <td>Everton</td>\n",
       "      <td>2.7</td>\n",
       "      <td>0–1</td>\n",
       "      <td>1.5</td>\n",
       "      <td>Fulham</td>\n",
       "      <td>39940.0</td>\n",
       "      <td>Goodison Park</td>\n",
       "      <td>Stuart Attwell</td>\n",
       "      <td>Match Report</td>\n",
       "      <td>NaN</td>\n",
       "    </tr>\n",
       "    <tr>\n",
       "      <th>3</th>\n",
       "      <td>1.0</td>\n",
       "      <td>Sat</td>\n",
       "      <td>2023-08-12</td>\n",
       "      <td>15:00</td>\n",
       "      <td>Sheffield Utd</td>\n",
       "      <td>0.5</td>\n",
       "      <td>0–1</td>\n",
       "      <td>1.9</td>\n",
       "      <td>Crystal Palace</td>\n",
       "      <td>31194.0</td>\n",
       "      <td>Bramall Lane</td>\n",
       "      <td>John Brooks</td>\n",
       "      <td>Match Report</td>\n",
       "      <td>NaN</td>\n",
       "    </tr>\n",
       "    <tr>\n",
       "      <th>4</th>\n",
       "      <td>1.0</td>\n",
       "      <td>Sat</td>\n",
       "      <td>2023-08-12</td>\n",
       "      <td>15:00</td>\n",
       "      <td>Brighton</td>\n",
       "      <td>4.0</td>\n",
       "      <td>4–1</td>\n",
       "      <td>1.5</td>\n",
       "      <td>Luton Town</td>\n",
       "      <td>31872.0</td>\n",
       "      <td>The American Express Community Stadium</td>\n",
       "      <td>David Coote</td>\n",
       "      <td>Match Report</td>\n",
       "      <td>NaN</td>\n",
       "    </tr>\n",
       "  </tbody>\n",
       "</table>\n",
       "</div>"
      ],
      "text/plain": [
       "    Wk  Day        Date   Time           Home   xG Score  xG.1  \\\n",
       "0  1.0  Fri  2023-08-11  20:00        Burnley  0.3   0–3   1.9   \n",
       "1  1.0  Sat  2023-08-12  12:30        Arsenal  0.8   2–1   1.2   \n",
       "2  1.0  Sat  2023-08-12  15:00        Everton  2.7   0–1   1.5   \n",
       "3  1.0  Sat  2023-08-12  15:00  Sheffield Utd  0.5   0–1   1.9   \n",
       "4  1.0  Sat  2023-08-12  15:00       Brighton  4.0   4–1   1.5   \n",
       "\n",
       "              Away  Attendance                                   Venue  \\\n",
       "0  Manchester City     21572.0                               Turf Moor   \n",
       "1  Nott'ham Forest     59984.0                        Emirates Stadium   \n",
       "2           Fulham     39940.0                           Goodison Park   \n",
       "3   Crystal Palace     31194.0                            Bramall Lane   \n",
       "4       Luton Town     31872.0  The American Express Community Stadium   \n",
       "\n",
       "          Referee  Match Report  Notes  \n",
       "0    Craig Pawson  Match Report    NaN  \n",
       "1  Michael Oliver  Match Report    NaN  \n",
       "2  Stuart Attwell  Match Report    NaN  \n",
       "3     John Brooks  Match Report    NaN  \n",
       "4     David Coote  Match Report    NaN  "
      ]
     },
     "execution_count": 28,
     "metadata": {},
     "output_type": "execute_result"
    }
   ],
   "source": [
    "df.head()"
   ]
  },
  {
   "cell_type": "code",
   "execution_count": 30,
   "metadata": {},
   "outputs": [],
   "source": [
    "df[[\"Home Score\", \"Away Score\"]] = df[\"Score\"].str.split(\"–\", n=1, expand=True)"
   ]
  },
  {
   "cell_type": "code",
   "execution_count": 31,
   "metadata": {},
   "outputs": [],
   "source": [
    "df = df[[\"Wk\", \"Day\", \"Date\", \"Time\", \"Home\", \"Away\", \"Match Report\", \"Home Score\", \"Away Score\"]]"
   ]
  },
  {
   "cell_type": "code",
   "execution_count": 52,
   "metadata": {},
   "outputs": [],
   "source": [
    "df = df[df[\"Wk\"].notna()]"
   ]
  },
  {
   "cell_type": "code",
   "execution_count": 53,
   "metadata": {},
   "outputs": [
    {
     "data": {
      "text/plain": [
       "array([ 1.,  2.,  3.,  4.,  5.,  6.,  7.,  8.,  9., 10., 11., 12., 13.,\n",
       "       14., 15., 16., 17., 18., 19., 20., 21., 22., 23., 24., 25., 26.,\n",
       "       27., 28., 29., 30., 31., 32., 33., 34., 35., 36., 37., 38.])"
      ]
     },
     "execution_count": 53,
     "metadata": {},
     "output_type": "execute_result"
    }
   ],
   "source": [
    "df[\"Wk\"].unique()"
   ]
  },
  {
   "cell_type": "code",
   "execution_count": 62,
   "metadata": {},
   "outputs": [
    {
     "data": {
      "text/plain": [
       "'[[1.0,\"Fri\",\"2023-08-11\",\"20:00\",\"Burnley\",\"Manchester City\",\"Match Report\",\"0\",\"3\"],[1.0,\"Sat\",\"2023-08-12\",\"12:30\",\"Arsenal\",\"Nott\\'ham Forest\",\"Match Report\",\"2\",\"1\"],[1.0,\"Sat\",\"2023-08-12\",\"15:00\",\"Everton\",\"Fulham\",\"Match Report\",\"0\",\"1\"],[1.0,\"Sat\",\"2023-08-12\",\"15:00\",\"Sheffield Utd\",\"Crystal Palace\",\"Match Report\",\"0\",\"1\"],[1.0,\"Sat\",\"2023-08-12\",\"15:00\",\"Brighton\",\"Luton Town\",\"Match Report\",\"4\",\"1\"],[1.0,\"Sat\",\"2023-08-12\",\"15:00\",\"Bournemouth\",\"West Ham\",\"Match Report\",\"1\",\"1\"],[1.0,\"Sat\",\"2023-08-12\",\"17:30\",\"Newcastle Utd\",\"Aston Villa\",\"Match Report\",\"5\",\"1\"],[1.0,\"Sun\",\"2023-08-13\",\"14:00\",\"Brentford\",\"Tottenham\",\"Match Report\",\"2\",\"2\"],[1.0,\"Sun\",\"2023-08-13\",\"16:30\",\"Chelsea\",\"Liverpool\",\"Match Report\",\"1\",\"1\"],[1.0,\"Mon\",\"2023-08-14\",\"20:00\",\"Manchester Utd\",\"Wolves\",\"Match Report\",\"1\",\"0\"],[2.0,\"Fri\",\"2023-08-18\",\"19:45\",\"Nott\\'ham Forest\",\"Sheffield Utd\",\"Match Report\",\"2\",\"1\"],[2.0,\"Sat\",\"2023-08-19\",\"15:00\",\"Fulham\",\"Brentford\",\"Match Report\",\"0\",\"3\"],[2.0,\"Sat\",\"2023-08-19\",\"15:00\",\"Liverpool\",\"Bournemouth\",\"Match Report\",\"3\",\"1\"],[2.0,\"Sat\",\"2023-08-19\",\"15:00\",\"Wolves\",\"Brighton\",\"Match Report\",\"1\",\"4\"],[2.0,\"Sat\",\"2023-08-19\",\"17:30\",\"Tottenham\",\"Manchester Utd\",\"Match Report\",\"2\",\"0\"],[2.0,\"Sat\",\"2023-08-19\",\"20:00\",\"Manchester City\",\"Newcastle Utd\",\"Match Report\",\"1\",\"0\"],[2.0,\"Sun\",\"2023-08-20\",\"14:00\",\"Aston Villa\",\"Everton\",\"Match Report\",\"4\",\"0\"],[2.0,\"Sun\",\"2023-08-20\",\"16:30\",\"West Ham\",\"Chelsea\",\"Match Report\",\"3\",\"1\"],[2.0,\"Mon\",\"2023-08-21\",\"20:00\",\"Crystal Palace\",\"Arsenal\",\"Match Report\",\"0\",\"1\"],[3.0,\"Fri\",\"2023-08-25\",\"20:00\",\"Chelsea\",\"Luton Town\",\"Match Report\",\"3\",\"0\"],[3.0,\"Sat\",\"2023-08-26\",\"12:30\",\"Bournemouth\",\"Tottenham\",\"Match Report\",\"0\",\"2\"],[3.0,\"Sat\",\"2023-08-26\",\"15:00\",\"Everton\",\"Wolves\",\"Match Report\",\"0\",\"1\"],[3.0,\"Sat\",\"2023-08-26\",\"15:00\",\"Brentford\",\"Crystal Palace\",\"Match Report\",\"1\",\"1\"],[3.0,\"Sat\",\"2023-08-26\",\"15:00\",\"Manchester Utd\",\"Nott\\'ham Forest\",\"Match Report\",\"3\",\"2\"],[3.0,\"Sat\",\"2023-08-26\",\"15:00\",\"Arsenal\",\"Fulham\",\"Match Report\",\"2\",\"2\"],[3.0,\"Sat\",\"2023-08-26\",\"17:30\",\"Brighton\",\"West Ham\",\"Match Report\",\"1\",\"3\"],[3.0,\"Sun\",\"2023-08-27\",\"14:00\",\"Sheffield Utd\",\"Manchester City\",\"Match Report\",\"1\",\"2\"],[3.0,\"Sun\",\"2023-08-27\",\"14:00\",\"Burnley\",\"Aston Villa\",\"Match Report\",\"1\",\"3\"],[3.0,\"Sun\",\"2023-08-27\",\"16:30\",\"Newcastle Utd\",\"Liverpool\",\"Match Report\",\"1\",\"2\"],[4.0,\"Fri\",\"2023-09-01\",\"20:00\",\"Luton Town\",\"West Ham\",\"Match Report\",\"1\",\"2\"],[4.0,\"Sat\",\"2023-09-02\",\"12:30\",\"Sheffield Utd\",\"Everton\",\"Match Report\",\"2\",\"2\"],[4.0,\"Sat\",\"2023-09-02\",\"15:00\",\"Chelsea\",\"Nott\\'ham Forest\",\"Match Report\",\"0\",\"1\"],[4.0,\"Sat\",\"2023-09-02\",\"15:00\",\"Manchester City\",\"Fulham\",\"Match Report\",\"5\",\"1\"],[4.0,\"Sat\",\"2023-09-02\",\"15:00\",\"Brentford\",\"Bournemouth\",\"Match Report\",\"2\",\"2\"],[4.0,\"Sat\",\"2023-09-02\",\"15:00\",\"Burnley\",\"Tottenham\",\"Match Report\",\"2\",\"5\"],[4.0,\"Sat\",\"2023-09-02\",\"17:30\",\"Brighton\",\"Newcastle Utd\",\"Match Report\",\"3\",\"1\"],[4.0,\"Sun\",\"2023-09-03\",\"14:00\",\"Liverpool\",\"Aston Villa\",\"Match Report\",\"3\",\"0\"],[4.0,\"Sun\",\"2023-09-03\",\"14:00\",\"Crystal Palace\",\"Wolves\",\"Match Report\",\"3\",\"2\"],[4.0,\"Sun\",\"2023-09-03\",\"16:30\",\"Arsenal\",\"Manchester Utd\",\"Match Report\",\"3\",\"1\"],[5.0,\"Sat\",\"2023-09-16\",\"12:30\",\"Wolves\",\"Liverpool\",\"Match Report\",\"1\",\"3\"],[5.0,\"Sat\",\"2023-09-16\",\"15:00\",\"Fulham\",\"Luton Town\",\"Match Report\",\"1\",\"0\"],[5.0,\"Sat\",\"2023-09-16\",\"15:00\",\"West Ham\",\"Manchester City\",\"Match Report\",\"1\",\"3\"],[5.0,\"Sat\",\"2023-09-16\",\"15:00\",\"Aston Villa\",\"Crystal Palace\",\"Match Report\",\"3\",\"1\"],[5.0,\"Sat\",\"2023-09-16\",\"15:00\",\"Manchester Utd\",\"Brighton\",\"Match Report\",\"1\",\"3\"],[5.0,\"Sat\",\"2023-09-16\",\"15:00\",\"Tottenham\",\"Sheffield Utd\",\"Match Report\",\"2\",\"1\"],[5.0,\"Sat\",\"2023-09-16\",\"17:30\",\"Newcastle Utd\",\"Brentford\",\"Match Report\",\"1\",\"0\"],[5.0,\"Sun\",\"2023-09-17\",\"14:00\",\"Bournemouth\",\"Chelsea\",\"Match Report\",\"0\",\"0\"],[5.0,\"Sun\",\"2023-09-17\",\"16:30\",\"Everton\",\"Arsenal\",\"Match Report\",\"0\",\"1\"],[5.0,\"Mon\",\"2023-09-18\",\"19:45\",\"Nott\\'ham Forest\",\"Burnley\",\"Match Report\",\"1\",\"1\"],[6.0,\"Sat\",\"2023-09-23\",\"15:00\",\"Manchester City\",\"Nott\\'ham Forest\",\"Match Report\",\"2\",\"0\"],[6.0,\"Sat\",\"2023-09-23\",\"15:00\",\"Luton Town\",\"Wolves\",\"Match Report\",\"1\",\"1\"],[6.0,\"Sat\",\"2023-09-23\",\"15:00\",\"Crystal Palace\",\"Fulham\",\"Match Report\",\"0\",\"0\"],[6.0,\"Sat\",\"2023-09-23\",\"17:30\",\"Brentford\",\"Everton\",\"Match Report\",\"1\",\"3\"],[6.0,\"Sat\",\"2023-09-23\",\"20:00\",\"Burnley\",\"Manchester Utd\",\"Match Report\",\"0\",\"1\"],[6.0,\"Sun\",\"2023-09-24\",\"14:00\",\"Arsenal\",\"Tottenham\",\"Match Report\",\"2\",\"2\"],[6.0,\"Sun\",\"2023-09-24\",\"14:00\",\"Brighton\",\"Bournemouth\",\"Match Report\",\"3\",\"1\"],[6.0,\"Sun\",\"2023-09-24\",\"14:00\",\"Chelsea\",\"Aston Villa\",\"Match Report\",\"0\",\"1\"],[6.0,\"Sun\",\"2023-09-24\",\"14:00\",\"Liverpool\",\"West Ham\",\"Match Report\",\"3\",\"1\"],[6.0,\"Sun\",\"2023-09-24\",\"16:30\",\"Sheffield Utd\",\"Newcastle Utd\",\"Match Report\",\"0\",\"8\"],[7.0,\"Sat\",\"2023-09-30\",\"12:30\",\"Aston Villa\",\"Brighton\",\"Match Report\",\"6\",\"1\"],[7.0,\"Sat\",\"2023-09-30\",\"15:00\",\"Wolves\",\"Manchester City\",\"Match Report\",\"2\",\"1\"],[7.0,\"Sat\",\"2023-09-30\",\"15:00\",\"Bournemouth\",\"Arsenal\",\"Match Report\",\"0\",\"4\"],[7.0,\"Sat\",\"2023-09-30\",\"15:00\",\"Everton\",\"Luton Town\",\"Match Report\",\"1\",\"2\"],[7.0,\"Sat\",\"2023-09-30\",\"15:00\",\"Newcastle Utd\",\"Burnley\",\"Match Report\",\"2\",\"0\"],[7.0,\"Sat\",\"2023-09-30\",\"15:00\",\"West Ham\",\"Sheffield Utd\",\"Match Report\",\"2\",\"0\"],[7.0,\"Sat\",\"2023-09-30\",\"15:00\",\"Manchester Utd\",\"Crystal Palace\",\"Match Report\",\"0\",\"1\"],[7.0,\"Sat\",\"2023-09-30\",\"17:30\",\"Tottenham\",\"Liverpool\",\"Match Report\",\"2\",\"1\"],[7.0,\"Sun\",\"2023-10-01\",\"14:00\",\"Nott\\'ham Forest\",\"Brentford\",\"Match Report\",\"1\",\"1\"],[7.0,\"Mon\",\"2023-10-02\",\"20:00\",\"Fulham\",\"Chelsea\",\"Match Report\",\"0\",\"2\"],[2.0,\"Tue\",\"2023-10-03\",\"19:30\",\"Luton Town\",\"Burnley\",\"Match Report\",\"1\",\"2\"],[8.0,\"Sat\",\"2023-10-07\",\"12:30\",\"Luton Town\",\"Tottenham\",\"Match Report\",\"0\",\"1\"],[8.0,\"Sat\",\"2023-10-07\",\"15:00\",\"Everton\",\"Bournemouth\",\"Match Report\",\"3\",\"0\"],[8.0,\"Sat\",\"2023-10-07\",\"15:00\",\"Manchester Utd\",\"Brentford\",\"Match Report\",\"2\",\"1\"],[8.0,\"Sat\",\"2023-10-07\",\"15:00\",\"Burnley\",\"Chelsea\",\"Match Report\",\"1\",\"4\"],[8.0,\"Sat\",\"2023-10-07\",\"15:00\",\"Fulham\",\"Sheffield Utd\",\"Match Report\",\"3\",\"1\"],[8.0,\"Sat\",\"2023-10-07\",\"17:30\",\"Crystal Palace\",\"Nott\\'ham Forest\",\"Match Report\",\"0\",\"0\"],[8.0,\"Sun\",\"2023-10-08\",\"14:00\",\"West Ham\",\"Newcastle Utd\",\"Match Report\",\"2\",\"2\"],[8.0,\"Sun\",\"2023-10-08\",\"14:00\",\"Wolves\",\"Aston Villa\",\"Match Report\",\"1\",\"1\"],[8.0,\"Sun\",\"2023-10-08\",\"14:00\",\"Brighton\",\"Liverpool\",\"Match Report\",\"2\",\"2\"],[8.0,\"Sun\",\"2023-10-08\",\"16:30\",\"Arsenal\",\"Manchester City\",\"Match Report\",\"1\",\"0\"],[9.0,\"Sat\",\"2023-10-21\",\"12:30\",\"Liverpool\",\"Everton\",\"Match Report\",\"2\",\"0\"],[9.0,\"Sat\",\"2023-10-21\",\"15:00\",\"Bournemouth\",\"Wolves\",\"Match Report\",\"1\",\"2\"],[9.0,\"Sat\",\"2023-10-21\",\"15:00\",\"Newcastle Utd\",\"Crystal Palace\",\"Match Report\",\"4\",\"0\"],[9.0,\"Sat\",\"2023-10-21\",\"15:00\",\"Brentford\",\"Burnley\",\"Match Report\",\"3\",\"0\"],[9.0,\"Sat\",\"2023-10-21\",\"15:00\",\"Manchester City\",\"Brighton\",\"Match Report\",\"2\",\"1\"],[9.0,\"Sat\",\"2023-10-21\",\"15:00\",\"Nott\\'ham Forest\",\"Luton Town\",\"Match Report\",\"2\",\"2\"],[9.0,\"Sat\",\"2023-10-21\",\"17:30\",\"Chelsea\",\"Arsenal\",\"Match Report\",\"2\",\"2\"],[9.0,\"Sat\",\"2023-10-21\",\"20:00\",\"Sheffield Utd\",\"Manchester Utd\",\"Match Report\",\"1\",\"2\"],[9.0,\"Sun\",\"2023-10-22\",\"16:30\",\"Aston Villa\",\"West Ham\",\"Match Report\",\"4\",\"1\"],[9.0,\"Mon\",\"2023-10-23\",\"20:00\",\"Tottenham\",\"Fulham\",\"Match Report\",\"2\",\"0\"],[10.0,\"Fri\",\"2023-10-27\",\"20:00\",\"Crystal Palace\",\"Tottenham\",\"Match Report\",\"1\",\"2\"],[10.0,\"Sat\",\"2023-10-28\",\"12:30\",\"Chelsea\",\"Brentford\",\"Match Report\",\"0\",\"2\"],[10.0,\"Sat\",\"2023-10-28\",\"15:00\",\"Bournemouth\",\"Burnley\",\"Match Report\",\"2\",\"1\"],[10.0,\"Sat\",\"2023-10-28\",\"15:00\",\"Arsenal\",\"Sheffield Utd\",\"Match Report\",\"5\",\"0\"],[10.0,\"Sat\",\"2023-10-28\",\"17:30\",\"Wolves\",\"Newcastle Utd\",\"Match Report\",\"2\",\"2\"],[10.0,\"Sun\",\"2023-10-29\",\"13:00\",\"West Ham\",\"Everton\",\"Match Report\",\"0\",\"1\"],[10.0,\"Sun\",\"2023-10-29\",\"14:00\",\"Liverpool\",\"Nott\\'ham Forest\",\"Match Report\",\"3\",\"0\"],[10.0,\"Sun\",\"2023-10-29\",\"14:00\",\"Brighton\",\"Fulham\",\"Match Report\",\"1\",\"1\"],[10.0,\"Sun\",\"2023-10-29\",\"14:00\",\"Aston Villa\",\"Luton Town\",\"Match Report\",\"3\",\"1\"],[10.0,\"Sun\",\"2023-10-29\",\"15:30\",\"Manchester Utd\",\"Manchester City\",\"Match Report\",\"0\",\"3\"],[11.0,\"Sat\",\"2023-11-04\",\"12:30\",\"Fulham\",\"Manchester Utd\",\"Match Report\",\"0\",\"1\"],[11.0,\"Sat\",\"2023-11-04\",\"15:00\",\"Brentford\",\"West Ham\",\"Match Report\",\"3\",\"2\"],[11.0,\"Sat\",\"2023-11-04\",\"15:00\",\"Everton\",\"Brighton\",\"Match Report\",\"1\",\"1\"],[11.0,\"Sat\",\"2023-11-04\",\"15:00\",\"Burnley\",\"Crystal Palace\",\"Match Report\",\"0\",\"2\"],[11.0,\"Sat\",\"2023-11-04\",\"15:00\",\"Manchester City\",\"Bournemouth\",\"Match Report\",\"6\",\"1\"],[11.0,\"Sat\",\"2023-11-04\",\"15:00\",\"Sheffield Utd\",\"Wolves\",\"Match Report\",\"2\",\"1\"],[11.0,\"Sat\",\"2023-11-04\",\"17:30\",\"Newcastle Utd\",\"Arsenal\",\"Match Report\",\"1\",\"0\"],[11.0,\"Sun\",\"2023-11-05\",\"14:00\",\"Nott\\'ham Forest\",\"Aston Villa\",\"Match Report\",\"2\",\"0\"],[11.0,\"Sun\",\"2023-11-05\",\"16:30\",\"Luton Town\",\"Liverpool\",\"Match Report\",\"1\",\"1\"],[11.0,\"Mon\",\"2023-11-06\",\"20:00\",\"Tottenham\",\"Chelsea\",\"Match Report\",\"1\",\"4\"],[12.0,\"Sat\",\"2023-11-11\",\"12:30\",\"Wolves\",\"Tottenham\",\"Match Report\",\"2\",\"1\"],[12.0,\"Sat\",\"2023-11-11\",\"15:00\",\"Arsenal\",\"Burnley\",\"Match Report\",\"3\",\"1\"],[12.0,\"Sat\",\"2023-11-11\",\"15:00\",\"Manchester Utd\",\"Luton Town\",\"Match Report\",\"1\",\"0\"],[12.0,\"Sat\",\"2023-11-11\",\"15:00\",\"Crystal Palace\",\"Everton\",\"Match Report\",\"2\",\"3\"],[12.0,\"Sat\",\"2023-11-11\",\"17:30\",\"Bournemouth\",\"Newcastle Utd\",\"Match Report\",\"2\",\"0\"],[12.0,\"Sun\",\"2023-11-12\",\"14:00\",\"West Ham\",\"Nott\\'ham Forest\",\"Match Report\",\"3\",\"2\"],[12.0,\"Sun\",\"2023-11-12\",\"14:00\",\"Liverpool\",\"Brentford\",\"Match Report\",\"3\",\"0\"],[12.0,\"Sun\",\"2023-11-12\",\"14:00\",\"Aston Villa\",\"Fulham\",\"Match Report\",\"3\",\"1\"],[12.0,\"Sun\",\"2023-11-12\",\"14:00\",\"Brighton\",\"Sheffield Utd\",\"Match Report\",\"1\",\"1\"],[12.0,\"Sun\",\"2023-11-12\",\"16:30\",\"Chelsea\",\"Manchester City\",\"Match Report\",\"4\",\"4\"],[13.0,\"Sat\",\"2023-11-25\",\"12:30\",\"Manchester City\",\"Liverpool\",\"Match Report\",\"1\",\"1\"],[13.0,\"Sat\",\"2023-11-25\",\"15:00\",\"Burnley\",\"West Ham\",\"Match Report\",\"1\",\"2\"],[13.0,\"Sat\",\"2023-11-25\",\"15:00\",\"Nott\\'ham Forest\",\"Brighton\",\"Match Report\",\"2\",\"3\"],[13.0,\"Sat\",\"2023-11-25\",\"15:00\",\"Sheffield Utd\",\"Bournemouth\",\"Match Report\",\"1\",\"3\"],[13.0,\"Sat\",\"2023-11-25\",\"15:00\",\"Newcastle Utd\",\"Chelsea\",\"Match Report\",\"4\",\"1\"],[13.0,\"Sat\",\"2023-11-25\",\"15:00\",\"Luton Town\",\"Crystal Palace\",\"Match Report\",\"2\",\"1\"],[13.0,\"Sat\",\"2023-11-25\",\"17:30\",\"Brentford\",\"Arsenal\",\"Match Report\",\"0\",\"1\"],[13.0,\"Sun\",\"2023-11-26\",\"14:00\",\"Tottenham\",\"Aston Villa\",\"Match Report\",\"1\",\"2\"],[13.0,\"Sun\",\"2023-11-26\",\"16:30\",\"Everton\",\"Manchester Utd\",\"Match Report\",\"0\",\"3\"],[13.0,\"Mon\",\"2023-11-27\",\"20:00\",\"Fulham\",\"Wolves\",\"Match Report\",\"3\",\"2\"],[14.0,\"Sat\",\"2023-12-02\",\"15:00\",\"Brentford\",\"Luton Town\",\"Match Report\",\"3\",\"1\"],[14.0,\"Sat\",\"2023-12-02\",\"15:00\",\"Arsenal\",\"Wolves\",\"Match Report\",\"2\",\"1\"],[14.0,\"Sat\",\"2023-12-02\",\"15:00\",\"Burnley\",\"Sheffield Utd\",\"Match Report\",\"5\",\"0\"],[14.0,\"Sat\",\"2023-12-02\",\"17:30\",\"Nott\\'ham Forest\",\"Everton\",\"Match Report\",\"0\",\"1\"],[14.0,\"Sat\",\"2023-12-02\",\"20:00\",\"Newcastle Utd\",\"Manchester Utd\",\"Match Report\",\"1\",\"0\"],[14.0,\"Sun\",\"2023-12-03\",\"14:00\",\"Bournemouth\",\"Aston Villa\",\"Match Report\",\"2\",\"2\"],[14.0,\"Sun\",\"2023-12-03\",\"14:00\",\"Liverpool\",\"Fulham\",\"Match Report\",\"4\",\"3\"],[14.0,\"Sun\",\"2023-12-03\",\"14:00\",\"Chelsea\",\"Brighton\",\"Match Report\",\"3\",\"2\"],[14.0,\"Sun\",\"2023-12-03\",\"14:00\",\"West Ham\",\"Crystal Palace\",\"Match Report\",\"1\",\"1\"],[14.0,\"Sun\",\"2023-12-03\",\"16:30\",\"Manchester City\",\"Tottenham\",\"Match Report\",\"3\",\"3\"],[15.0,\"Tue\",\"2023-12-05\",\"19:30\",\"Wolves\",\"Burnley\",\"Match Report\",\"1\",\"0\"],[15.0,\"Tue\",\"2023-12-05\",\"20:15\",\"Luton Town\",\"Arsenal\",\"Match Report\",\"3\",\"4\"],[15.0,\"Wed\",\"2023-12-06\",\"19:30\",\"Sheffield Utd\",\"Liverpool\",\"Match Report\",\"0\",\"2\"],[15.0,\"Wed\",\"2023-12-06\",\"19:30\",\"Crystal Palace\",\"Bournemouth\",\"Match Report\",\"0\",\"2\"],[15.0,\"Wed\",\"2023-12-06\",\"19:30\",\"Brighton\",\"Brentford\",\"Match Report\",\"2\",\"1\"],[15.0,\"Wed\",\"2023-12-06\",\"19:30\",\"Fulham\",\"Nott\\'ham Forest\",\"Match Report\",\"5\",\"0\"],[15.0,\"Wed\",\"2023-12-06\",\"20:15\",\"Aston Villa\",\"Manchester City\",\"Match Report\",\"1\",\"0\"],[15.0,\"Wed\",\"2023-12-06\",\"20:15\",\"Manchester Utd\",\"Chelsea\",\"Match Report\",\"2\",\"1\"],[15.0,\"Thu\",\"2023-12-07\",\"19:30\",\"Everton\",\"Newcastle Utd\",\"Match Report\",\"3\",\"0\"],[15.0,\"Thu\",\"2023-12-07\",\"20:15\",\"Tottenham\",\"West Ham\",\"Match Report\",\"1\",\"2\"],[16.0,\"Sat\",\"2023-12-09\",\"12:30\",\"Crystal Palace\",\"Liverpool\",\"Match Report\",\"1\",\"2\"],[16.0,\"Sat\",\"2023-12-09\",\"15:00\",\"Manchester Utd\",\"Bournemouth\",\"Match Report\",\"0\",\"3\"],[16.0,\"Sat\",\"2023-12-09\",\"15:00\",\"Wolves\",\"Nott\\'ham Forest\",\"Match Report\",\"1\",\"1\"],[16.0,\"Sat\",\"2023-12-09\",\"15:00\",\"Brighton\",\"Burnley\",\"Match Report\",\"1\",\"1\"],[16.0,\"Sat\",\"2023-12-09\",\"15:00\",\"Sheffield Utd\",\"Brentford\",\"Match Report\",\"1\",\"0\"],[16.0,\"Sat\",\"2023-12-09\",\"17:30\",\"Aston Villa\",\"Arsenal\",\"Match Report\",\"1\",\"0\"],[16.0,\"Sun\",\"2023-12-10\",\"14:00\",\"Everton\",\"Chelsea\",\"Match Report\",\"2\",\"0\"],[16.0,\"Sun\",\"2023-12-10\",\"14:00\",\"Fulham\",\"West Ham\",\"Match Report\",\"5\",\"0\"],[16.0,\"Sun\",\"2023-12-10\",\"14:00\",\"Luton Town\",\"Manchester City\",\"Match Report\",\"1\",\"2\"],[16.0,\"Sun\",\"2023-12-10\",\"16:30\",\"Tottenham\",\"Newcastle Utd\",\"Match Report\",\"4\",\"1\"],[17.0,\"Fri\",\"2023-12-15\",\"20:00\",\"Nott\\'ham Forest\",\"Tottenham\",\"Match Report\",\"0\",\"2\"],[17.0,\"Sat\",\"2023-12-16\",\"15:00\",\"Manchester City\",\"Crystal Palace\",\"Match Report\",\"2\",\"2\"],[17.0,\"Sat\",\"2023-12-16\",\"15:00\",\"Chelsea\",\"Sheffield Utd\",\"Match Report\",\"2\",\"0\"],[17.0,\"Sat\",\"2023-12-16\",\"15:00\",\"Newcastle Utd\",\"Fulham\",\"Match Report\",\"3\",\"0\"],[17.0,\"Sat\",\"2023-12-16\",\"17:30\",\"Burnley\",\"Everton\",\"Match Report\",\"0\",\"2\"],[17.0,\"Sun\",\"2023-12-17\",\"14:00\",\"Brentford\",\"Aston Villa\",\"Match Report\",\"1\",\"2\"],[17.0,\"Sun\",\"2023-12-17\",\"14:00\",\"West Ham\",\"Wolves\",\"Match Report\",\"3\",\"0\"],[17.0,\"Sun\",\"2023-12-17\",\"14:00\",\"Arsenal\",\"Brighton\",\"Match Report\",\"2\",\"0\"],[17.0,\"Sun\",\"2023-12-17\",\"16:30\",\"Liverpool\",\"Manchester Utd\",\"Match Report\",\"0\",\"0\"],[18.0,\"Thu\",\"2023-12-21\",\"20:00\",\"Crystal Palace\",\"Brighton\",\"Match Report\",\"1\",\"1\"],[18.0,\"Fri\",\"2023-12-22\",\"20:00\",\"Aston Villa\",\"Sheffield Utd\",\"Match Report\",\"1\",\"1\"],[18.0,\"Sat\",\"2023-12-23\",\"12:30\",\"West Ham\",\"Manchester Utd\",\"Match Report\",\"2\",\"0\"],[18.0,\"Sat\",\"2023-12-23\",\"15:00\",\"Luton Town\",\"Newcastle Utd\",\"Match Report\",\"1\",\"0\"],[18.0,\"Sat\",\"2023-12-23\",\"15:00\",\"Fulham\",\"Burnley\",\"Match Report\",\"0\",\"2\"],[18.0,\"Sat\",\"2023-12-23\",\"15:00\",\"Tottenham\",\"Everton\",\"Match Report\",\"2\",\"1\"],[18.0,\"Sat\",\"2023-12-23\",\"15:00\",\"Nott\\'ham Forest\",\"Bournemouth\",\"Match Report\",\"2\",\"3\"],[18.0,\"Sat\",\"2023-12-23\",\"17:30\",\"Liverpool\",\"Arsenal\",\"Match Report\",\"1\",\"1\"],[18.0,\"Sun\",\"2023-12-24\",\"13:00\",\"Wolves\",\"Chelsea\",\"Match Report\",\"2\",\"1\"],[19.0,\"Tue\",\"2023-12-26\",\"12:30\",\"Newcastle Utd\",\"Nott\\'ham Forest\",\"Match Report\",\"1\",\"3\"],[19.0,\"Tue\",\"2023-12-26\",\"15:00\",\"Bournemouth\",\"Fulham\",\"Match Report\",\"3\",\"0\"],[19.0,\"Tue\",\"2023-12-26\",\"15:00\",\"Sheffield Utd\",\"Luton Town\",\"Match Report\",\"2\",\"3\"],[19.0,\"Tue\",\"2023-12-26\",\"17:30\",\"Burnley\",\"Liverpool\",\"Match Report\",\"0\",\"2\"],[19.0,\"Tue\",\"2023-12-26\",\"20:00\",\"Manchester Utd\",\"Aston Villa\",\"Match Report\",\"3\",\"2\"],[19.0,\"Wed\",\"2023-12-27\",\"19:30\",\"Chelsea\",\"Crystal Palace\",\"Match Report\",\"2\",\"1\"],[19.0,\"Wed\",\"2023-12-27\",\"19:30\",\"Brentford\",\"Wolves\",\"Match Report\",\"1\",\"4\"],[19.0,\"Wed\",\"2023-12-27\",\"20:15\",\"Everton\",\"Manchester City\",\"Match Report\",\"1\",\"3\"],[19.0,\"Thu\",\"2023-12-28\",\"19:30\",\"Brighton\",\"Tottenham\",\"Match Report\",\"4\",\"2\"],[19.0,\"Thu\",\"2023-12-28\",\"20:15\",\"Arsenal\",\"West Ham\",\"Match Report\",\"0\",\"2\"],[20.0,\"Sat\",\"2023-12-30\",\"12:30\",\"Luton Town\",\"Chelsea\",\"Match Report\",\"2\",\"3\"],[20.0,\"Sat\",\"2023-12-30\",\"15:00\",\"Aston Villa\",\"Burnley\",\"Match Report\",\"3\",\"2\"],[20.0,\"Sat\",\"2023-12-30\",\"15:00\",\"Wolves\",\"Everton\",\"Match Report\",\"3\",\"0\"],[20.0,\"Sat\",\"2023-12-30\",\"15:00\",\"Manchester City\",\"Sheffield Utd\",\"Match Report\",\"2\",\"0\"],[20.0,\"Sat\",\"2023-12-30\",\"15:00\",\"Crystal Palace\",\"Brentford\",\"Match Report\",\"3\",\"1\"],[20.0,\"Sat\",\"2023-12-30\",\"17:30\",\"Nott\\'ham Forest\",\"Manchester Utd\",\"Match Report\",\"2\",\"1\"],[20.0,\"Sun\",\"2023-12-31\",\"14:00\",\"Tottenham\",\"Bournemouth\",\"Match Report\",\"3\",\"1\"],[20.0,\"Sun\",\"2023-12-31\",\"14:00\",\"Fulham\",\"Arsenal\",\"Match Report\",\"2\",\"1\"],[20.0,\"Mon\",\"2024-01-01\",\"20:00\",\"Liverpool\",\"Newcastle Utd\",\"Match Report\",\"4\",\"2\"],[20.0,\"Tue\",\"2024-01-02\",\"19:30\",\"West Ham\",\"Brighton\",\"Match Report\",\"0\",\"0\"],[21.0,\"Fri\",\"2024-01-12\",\"19:45\",\"Burnley\",\"Luton Town\",\"Match Report\",\"1\",\"1\"],[21.0,\"Sat\",\"2024-01-13\",\"12:30\",\"Chelsea\",\"Fulham\",\"Match Report\",\"1\",\"0\"],[21.0,\"Sat\",\"2024-01-13\",\"17:30\",\"Newcastle Utd\",\"Manchester City\",\"Match Report\",\"2\",\"3\"],[21.0,\"Sun\",\"2024-01-14\",\"14:00\",\"Everton\",\"Aston Villa\",\"Match Report\",\"0\",\"0\"],[21.0,\"Sun\",\"2024-01-14\",\"16:30\",\"Manchester Utd\",\"Tottenham\",\"Match Report\",\"2\",\"2\"],[21.0,\"Sat\",\"2024-01-20\",\"12:30\",\"Arsenal\",\"Crystal Palace\",\"Match Report\",\"5\",\"0\"],[21.0,\"Sat\",\"2024-01-20\",\"17:30\",\"Brentford\",\"Nott\\'ham Forest\",\"Match Report\",\"3\",\"2\"],[21.0,\"Sun\",\"2024-01-21\",\"14:00\",\"Sheffield Utd\",\"West Ham\",\"Match Report\",\"2\",\"2\"],[21.0,\"Sun\",\"2024-01-21\",\"16:30\",\"Bournemouth\",\"Liverpool\",\"Match Report\",\"0\",\"4\"],[21.0,\"Mon\",\"2024-01-22\",\"19:45\",\"Brighton\",\"Wolves\",\"Match Report\",\"0\",\"0\"],[22.0,\"Tue\",\"2024-01-30\",\"19:30\",\"Nott\\'ham Forest\",\"Arsenal\",\"Match Report\",\"1\",\"2\"],[22.0,\"Tue\",\"2024-01-30\",\"19:45\",\"Fulham\",\"Everton\",\"Match Report\",\"0\",\"0\"],[22.0,\"Tue\",\"2024-01-30\",\"19:45\",\"Luton Town\",\"Brighton\",\"Match Report\",\"4\",\"0\"],[22.0,\"Tue\",\"2024-01-30\",\"20:00\",\"Crystal Palace\",\"Sheffield Utd\",\"Match Report\",\"3\",\"2\"],[22.0,\"Tue\",\"2024-01-30\",\"20:15\",\"Aston Villa\",\"Newcastle Utd\",\"Match Report\",\"1\",\"3\"],[22.0,\"Wed\",\"2024-01-31\",\"19:30\",\"Tottenham\",\"Brentford\",\"Match Report\",\"3\",\"2\"],[22.0,\"Wed\",\"2024-01-31\",\"19:30\",\"Manchester City\",\"Burnley\",\"Match Report\",\"3\",\"1\"],[22.0,\"Wed\",\"2024-01-31\",\"20:15\",\"Liverpool\",\"Chelsea\",\"Match Report\",\"4\",\"1\"],[22.0,\"Thu\",\"2024-02-01\",\"19:30\",\"West Ham\",\"Bournemouth\",\"Match Report\",\"1\",\"1\"],[22.0,\"Thu\",\"2024-02-01\",\"20:15\",\"Wolves\",\"Manchester Utd\",\"Match Report\",\"3\",\"4\"],[23.0,\"Sat\",\"2024-02-03\",\"12:30\",\"Everton\",\"Tottenham\",\"Match Report\",\"2\",\"2\"],[23.0,\"Sat\",\"2024-02-03\",\"15:00\",\"Newcastle Utd\",\"Luton Town\",\"Match Report\",\"4\",\"4\"],[23.0,\"Sat\",\"2024-02-03\",\"15:00\",\"Brighton\",\"Crystal Palace\",\"Match Report\",\"4\",\"1\"],[23.0,\"Sat\",\"2024-02-03\",\"15:00\",\"Burnley\",\"Fulham\",\"Match Report\",\"2\",\"2\"],[23.0,\"Sat\",\"2024-02-03\",\"17:30\",\"Sheffield Utd\",\"Aston Villa\",\"Match Report\",\"0\",\"5\"],[23.0,\"Sun\",\"2024-02-04\",\"14:00\",\"Bournemouth\",\"Nott\\'ham Forest\",\"Match Report\",\"1\",\"1\"],[23.0,\"Sun\",\"2024-02-04\",\"14:00\",\"Manchester Utd\",\"West Ham\",\"Match Report\",\"3\",\"0\"],[23.0,\"Sun\",\"2024-02-04\",\"14:00\",\"Chelsea\",\"Wolves\",\"Match Report\",\"2\",\"4\"],[23.0,\"Sun\",\"2024-02-04\",\"16:30\",\"Arsenal\",\"Liverpool\",\"Match Report\",\"3\",\"1\"],[23.0,\"Mon\",\"2024-02-05\",\"20:00\",\"Brentford\",\"Manchester City\",\"Match Report\",\"1\",\"3\"],[24.0,\"Sat\",\"2024-02-10\",\"12:30\",\"Manchester City\",\"Everton\",\"Match Report\",\"2\",\"0\"],[24.0,\"Sat\",\"2024-02-10\",\"15:00\",\"Luton Town\",\"Sheffield Utd\",\"Match Report\",\"1\",\"3\"],[24.0,\"Sat\",\"2024-02-10\",\"15:00\",\"Liverpool\",\"Burnley\",\"Match Report\",\"3\",\"1\"],[24.0,\"Sat\",\"2024-02-10\",\"15:00\",\"Wolves\",\"Brentford\",\"Match Report\",\"0\",\"2\"],[24.0,\"Sat\",\"2024-02-10\",\"15:00\",\"Fulham\",\"Bournemouth\",\"Match Report\",\"3\",\"1\"],[24.0,\"Sat\",\"2024-02-10\",\"15:00\",\"Tottenham\",\"Brighton\",\"Match Report\",\"2\",\"1\"],[24.0,\"Sat\",\"2024-02-10\",\"17:30\",\"Nott\\'ham Forest\",\"Newcastle Utd\",\"Match Report\",\"2\",\"3\"],[24.0,\"Sun\",\"2024-02-11\",\"14:00\",\"West Ham\",\"Arsenal\",\"Match Report\",\"0\",\"6\"],[24.0,\"Sun\",\"2024-02-11\",\"16:30\",\"Aston Villa\",\"Manchester Utd\",\"Match Report\",\"1\",\"2\"],[24.0,\"Mon\",\"2024-02-12\",\"20:00\",\"Crystal Palace\",\"Chelsea\",\"Match Report\",\"1\",\"3\"],[25.0,\"Sat\",\"2024-02-17\",\"12:30\",\"Brentford\",\"Liverpool\",\"Match Report\",\"1\",\"4\"],[25.0,\"Sat\",\"2024-02-17\",\"15:00\",\"Newcastle Utd\",\"Bournemouth\",\"Match Report\",\"2\",\"2\"],[25.0,\"Sat\",\"2024-02-17\",\"15:00\",\"Tottenham\",\"Wolves\",\"Match Report\",\"1\",\"2\"],[25.0,\"Sat\",\"2024-02-17\",\"15:00\",\"Burnley\",\"Arsenal\",\"Match Report\",\"0\",\"5\"],[25.0,\"Sat\",\"2024-02-17\",\"15:00\",\"Fulham\",\"Aston Villa\",\"Match Report\",\"1\",\"2\"],[25.0,\"Sat\",\"2024-02-17\",\"15:00\",\"Nott\\'ham Forest\",\"West Ham\",\"Match Report\",\"2\",\"0\"],[25.0,\"Sat\",\"2024-02-17\",\"17:30\",\"Manchester City\",\"Chelsea\",\"Match Report\",\"1\",\"1\"],[25.0,\"Sun\",\"2024-02-18\",\"14:00\",\"Sheffield Utd\",\"Brighton\",\"Match Report\",\"0\",\"5\"],[25.0,\"Sun\",\"2024-02-18\",\"16:30\",\"Luton Town\",\"Manchester Utd\",\"Match Report\",\"1\",\"2\"],[25.0,\"Mon\",\"2024-02-19\",\"20:00\",\"Everton\",\"Crystal Palace\",\"Match Report\",\"1\",\"1\"],[18.0,\"Tue\",\"2024-02-20\",\"19:30\",\"Manchester City\",\"Brentford\",\"Match Report\",\"1\",\"0\"],[26.0,\"Wed\",\"2024-02-21\",\"19:30\",\"Liverpool\",\"Luton Town\",\"Match Report\",\"4\",\"1\"],[26.0,\"Sat\",\"2024-02-24\",\"15:00\",\"Manchester Utd\",\"Fulham\",\"Match Report\",\"1\",\"2\"],[26.0,\"Sat\",\"2024-02-24\",\"15:00\",\"Crystal Palace\",\"Burnley\",\"Match Report\",\"3\",\"0\"],[26.0,\"Sat\",\"2024-02-24\",\"15:00\",\"Brighton\",\"Everton\",\"Match Report\",\"1\",\"1\"],[26.0,\"Sat\",\"2024-02-24\",\"15:00\",\"Aston Villa\",\"Nott\\'ham Forest\",\"Match Report\",\"4\",\"2\"],[26.0,\"Sat\",\"2024-02-24\",\"17:30\",\"Bournemouth\",\"Manchester City\",\"Match Report\",\"0\",\"1\"],[26.0,\"Sat\",\"2024-02-24\",\"20:00\",\"Arsenal\",\"Newcastle Utd\",\"Match Report\",\"4\",\"1\"],[26.0,\"Sun\",\"2024-02-25\",\"13:30\",\"Wolves\",\"Sheffield Utd\",\"Match Report\",\"1\",\"0\"],[26.0,\"Mon\",\"2024-02-26\",\"20:00\",\"West Ham\",\"Brentford\",\"Match Report\",\"4\",\"2\"],[27.0,\"Sat\",\"2024-03-02\",\"15:00\",\"Fulham\",\"Brighton\",\"Match Report\",\"3\",\"0\"],[27.0,\"Sat\",\"2024-03-02\",\"15:00\",\"Tottenham\",\"Crystal Palace\",\"Match Report\",\"3\",\"1\"],[27.0,\"Sat\",\"2024-03-02\",\"15:00\",\"Brentford\",\"Chelsea\",\"Match Report\",\"2\",\"2\"],[27.0,\"Sat\",\"2024-03-02\",\"15:00\",\"Newcastle Utd\",\"Wolves\",\"Match Report\",\"3\",\"0\"],[27.0,\"Sat\",\"2024-03-02\",\"15:00\",\"Nott\\'ham Forest\",\"Liverpool\",\"Match Report\",\"0\",\"1\"],[27.0,\"Sat\",\"2024-03-02\",\"15:00\",\"Everton\",\"West Ham\",\"Match Report\",\"1\",\"3\"],[27.0,\"Sat\",\"2024-03-02\",\"17:30\",\"Luton Town\",\"Aston Villa\",\"Match Report\",\"2\",\"3\"],[27.0,\"Sun\",\"2024-03-03\",\"13:00\",\"Burnley\",\"Bournemouth\",\"Match Report\",\"0\",\"2\"],[27.0,\"Sun\",\"2024-03-03\",\"15:30\",\"Manchester City\",\"Manchester Utd\",\"Match Report\",\"3\",\"1\"],[27.0,\"Mon\",\"2024-03-04\",\"20:00\",\"Sheffield Utd\",\"Arsenal\",\"Match Report\",\"0\",\"6\"],[28.0,\"Sat\",\"2024-03-09\",\"12:30\",\"Manchester Utd\",\"Everton\",\"Match Report\",\"2\",\"0\"],[28.0,\"Sat\",\"2024-03-09\",\"15:00\",\"Bournemouth\",\"Sheffield Utd\",\"Match Report\",\"2\",\"2\"],[28.0,\"Sat\",\"2024-03-09\",\"15:00\",\"Wolves\",\"Fulham\",\"Match Report\",\"2\",\"1\"],[28.0,\"Sat\",\"2024-03-09\",\"15:00\",\"Crystal Palace\",\"Luton Town\",\"Match Report\",\"1\",\"1\"],[28.0,\"Sat\",\"2024-03-09\",\"17:30\",\"Arsenal\",\"Brentford\",\"Match Report\",\"2\",\"1\"],[28.0,\"Sun\",\"2024-03-10\",\"13:00\",\"Aston Villa\",\"Tottenham\",\"Match Report\",\"0\",\"4\"],[28.0,\"Sun\",\"2024-03-10\",\"14:00\",\"West Ham\",\"Burnley\",\"Match Report\",\"2\",\"2\"],[28.0,\"Sun\",\"2024-03-10\",\"14:00\",\"Brighton\",\"Nott\\'ham Forest\",\"Match Report\",\"1\",\"0\"],[28.0,\"Sun\",\"2024-03-10\",\"15:45\",\"Liverpool\",\"Manchester City\",\"Match Report\",\"1\",\"1\"],[28.0,\"Mon\",\"2024-03-11\",\"20:00\",\"Chelsea\",\"Newcastle Utd\",\"Match Report\",\"3\",\"2\"],[17.0,\"Wed\",\"2024-03-13\",\"19:30\",\"Bournemouth\",\"Luton Town\",\"Match Report\",\"4\",\"3\"],[29.0,\"Sat\",\"2024-03-16\",\"15:00\",\"Luton Town\",\"Nott\\'ham Forest\",\"Match Report\",\"1\",\"1\"],[29.0,\"Sat\",\"2024-03-16\",\"15:00\",\"Burnley\",\"Brentford\",\"Match Report\",\"2\",\"1\"],[29.0,\"Sat\",\"2024-03-16\",\"17:30\",\"Fulham\",\"Tottenham\",\"Match Report\",\"3\",\"0\"],[29.0,\"Sun\",\"2024-03-17\",\"14:00\",\"West Ham\",\"Aston Villa\",\"Match Report\",\"1\",\"1\"],[30.0,\"Sat\",\"2024-03-30\",\"12:30\",\"Newcastle Utd\",\"West Ham\",\"Match Report\",\"4\",\"3\"],[30.0,\"Sat\",\"2024-03-30\",\"15:00\",\"Bournemouth\",\"Everton\",\"Match Report\",\"2\",\"1\"],[30.0,\"Sat\",\"2024-03-30\",\"15:00\",\"Tottenham\",\"Luton Town\",\"Match Report\",\"2\",\"1\"],[30.0,\"Sat\",\"2024-03-30\",\"15:00\",\"Nott\\'ham Forest\",\"Crystal Palace\",\"Match Report\",\"1\",\"1\"],[30.0,\"Sat\",\"2024-03-30\",\"15:00\",\"Sheffield Utd\",\"Fulham\",\"Match Report\",\"3\",\"3\"],[30.0,\"Sat\",\"2024-03-30\",\"15:00\",\"Chelsea\",\"Burnley\",\"Match Report\",\"2\",\"2\"],[30.0,\"Sat\",\"2024-03-30\",\"17:30\",\"Aston Villa\",\"Wolves\",\"Match Report\",\"2\",\"0\"],[30.0,\"Sat\",\"2024-03-30\",\"20:00\",\"Brentford\",\"Manchester Utd\",\"Match Report\",\"1\",\"1\"],[30.0,\"Sun\",\"2024-03-31\",\"14:00\",\"Liverpool\",\"Brighton\",\"Match Report\",\"2\",\"1\"],[30.0,\"Sun\",\"2024-03-31\",\"16:30\",\"Manchester City\",\"Arsenal\",\"Match Report\",\"0\",\"0\"],[31.0,\"Tue\",\"2024-04-02\",\"19:30\",\"Newcastle Utd\",\"Everton\",\"Match Report\",\"1\",\"1\"],[31.0,\"Tue\",\"2024-04-02\",\"19:30\",\"Nott\\'ham Forest\",\"Fulham\",\"Match Report\",\"3\",\"1\"],[31.0,\"Tue\",\"2024-04-02\",\"19:45\",\"Bournemouth\",\"Crystal Palace\",\"Match Report\",\"1\",\"0\"],[31.0,\"Tue\",\"2024-04-02\",\"19:45\",\"Burnley\",\"Wolves\",\"Match Report\",\"1\",\"1\"],[31.0,\"Tue\",\"2024-04-02\",\"20:15\",\"West Ham\",\"Tottenham\",\"Match Report\",\"1\",\"1\"],[31.0,\"Wed\",\"2024-04-03\",\"19:30\",\"Arsenal\",\"Luton Town\",\"Match Report\",\"2\",\"0\"],[31.0,\"Wed\",\"2024-04-03\",\"19:30\",\"Brentford\",\"Brighton\",\"Match Report\",\"0\",\"0\"],[31.0,\"Wed\",\"2024-04-03\",\"20:15\",\"Manchester City\",\"Aston Villa\",\"Match Report\",\"4\",\"1\"],[31.0,\"Thu\",\"2024-04-04\",\"19:30\",\"Liverpool\",\"Sheffield Utd\",\"Match Report\",\"3\",\"1\"],[31.0,\"Thu\",\"2024-04-04\",\"20:15\",\"Chelsea\",\"Manchester Utd\",\"Match Report\",\"4\",\"3\"],[32.0,\"Sat\",\"2024-04-06\",\"12:30\",\"Crystal Palace\",\"Manchester City\",\"Match Report\",\"2\",\"4\"],[32.0,\"Sat\",\"2024-04-06\",\"15:00\",\"Luton Town\",\"Bournemouth\",\"Match Report\",\"2\",\"1\"],[32.0,\"Sat\",\"2024-04-06\",\"15:00\",\"Wolves\",\"West Ham\",\"Match Report\",\"1\",\"2\"],[32.0,\"Sat\",\"2024-04-06\",\"15:00\",\"Fulham\",\"Newcastle Utd\",\"Match Report\",\"0\",\"1\"],[32.0,\"Sat\",\"2024-04-06\",\"15:00\",\"Everton\",\"Burnley\",\"Match Report\",\"1\",\"0\"],[32.0,\"Sat\",\"2024-04-06\",\"15:00\",\"Aston Villa\",\"Brentford\",\"Match Report\",\"3\",\"3\"],[32.0,\"Sat\",\"2024-04-06\",\"17:30\",\"Brighton\",\"Arsenal\",\"Match Report\",\"0\",\"3\"],[32.0,\"Sun\",\"2024-04-07\",\"15:30\",\"Manchester Utd\",\"Liverpool\",\"Match Report\",\"2\",\"2\"],[32.0,\"Sun\",\"2024-04-07\",\"17:30\",\"Sheffield Utd\",\"Chelsea\",\"Match Report\",\"2\",\"2\"],[32.0,\"Sun\",\"2024-04-07\",\"18:00\",\"Tottenham\",\"Nott\\'ham Forest\",\"Match Report\",\"3\",\"1\"],[33.0,\"Sat\",\"2024-04-13\",\"12:30\",\"Newcastle Utd\",\"Tottenham\",\"Match Report\",\"4\",\"0\"],[33.0,\"Sat\",\"2024-04-13\",\"15:00\",\"Manchester City\",\"Luton Town\",\"Match Report\",\"5\",\"1\"],[33.0,\"Sat\",\"2024-04-13\",\"15:00\",\"Nott\\'ham Forest\",\"Wolves\",\"Match Report\",\"2\",\"2\"],[33.0,\"Sat\",\"2024-04-13\",\"15:00\",\"Brentford\",\"Sheffield Utd\",\"Match Report\",\"2\",\"0\"],[33.0,\"Sat\",\"2024-04-13\",\"15:00\",\"Burnley\",\"Brighton\",\"Match Report\",\"1\",\"1\"],[33.0,\"Sat\",\"2024-04-13\",\"17:30\",\"Bournemouth\",\"Manchester Utd\",\"Match Report\",\"2\",\"2\"],[33.0,\"Sun\",\"2024-04-14\",\"14:00\",\"Liverpool\",\"Crystal Palace\",\"Match Report\",\"0\",\"1\"],[33.0,\"Sun\",\"2024-04-14\",\"14:00\",\"West Ham\",\"Fulham\",\"Match Report\",\"0\",\"2\"],[33.0,\"Sun\",\"2024-04-14\",\"16:30\",\"Arsenal\",\"Aston Villa\",\"Match Report\",\"0\",\"2\"],[33.0,\"Mon\",\"2024-04-15\",\"20:00\",\"Chelsea\",\"Everton\",\"Match Report\",\"6\",\"0\"],[34.0,\"Sat\",\"2024-04-20\",\"15:00\",\"Luton Town\",\"Brentford\",\"Match Report\",\"1\",\"5\"],[34.0,\"Sat\",\"2024-04-20\",\"15:00\",\"Sheffield Utd\",\"Burnley\",\"Match Report\",\"1\",\"4\"],[34.0,\"Sat\",\"2024-04-20\",\"19:30\",\"Wolves\",\"Arsenal\",\"Match Report\",\"0\",\"2\"],[34.0,\"Sun\",\"2024-04-21\",\"13:30\",\"Everton\",\"Nott\\'ham Forest\",\"Match Report\",\"2\",\"0\"],[34.0,\"Sun\",\"2024-04-21\",\"15:00\",\"Aston Villa\",\"Bournemouth\",\"Match Report\",\"3\",\"1\"],[34.0,\"Sun\",\"2024-04-21\",\"15:00\",\"Crystal Palace\",\"West Ham\",\"Match Report\",\"5\",\"2\"],[34.0,\"Sun\",\"2024-04-21\",\"16:30\",\"Fulham\",\"Liverpool\",\"Match Report\",\"1\",\"3\"],[29.0,\"Tue\",\"2024-04-23\",\"20:00\",\"Arsenal\",\"Chelsea\",\"Match Report\",\"5\",\"0\"],[29.0,\"Wed\",\"2024-04-24\",\"19:45\",\"Wolves\",\"Bournemouth\",\"Match Report\",\"0\",\"1\"],[29.0,\"Wed\",\"2024-04-24\",\"20:00\",\"Manchester Utd\",\"Sheffield Utd\",\"Match Report\",\"4\",\"2\"],[29.0,\"Wed\",\"2024-04-24\",\"20:00\",\"Everton\",\"Liverpool\",\"Match Report\",\"2\",\"0\"],[29.0,\"Wed\",\"2024-04-24\",\"20:00\",\"Crystal Palace\",\"Newcastle Utd\",\"Match Report\",\"2\",\"0\"],[29.0,\"Thu\",\"2024-04-25\",\"20:00\",\"Brighton\",\"Manchester City\",\"Match Report\",\"0\",\"4\"],[35.0,\"Sat\",\"2024-04-27\",\"12:30\",\"West Ham\",\"Liverpool\",\"Match Report\",\"2\",\"2\"],[35.0,\"Sat\",\"2024-04-27\",\"15:00\",\"Wolves\",\"Luton Town\",\"Match Report\",\"2\",\"1\"],[35.0,\"Sat\",\"2024-04-27\",\"15:00\",\"Fulham\",\"Crystal Palace\",\"Match Report\",\"1\",\"1\"],[35.0,\"Sat\",\"2024-04-27\",\"15:00\",\"Manchester Utd\",\"Burnley\",\"Match Report\",\"1\",\"1\"],[35.0,\"Sat\",\"2024-04-27\",\"15:00\",\"Newcastle Utd\",\"Sheffield Utd\",\"Match Report\",\"5\",\"1\"],[35.0,\"Sat\",\"2024-04-27\",\"17:30\",\"Everton\",\"Brentford\",\"Match Report\",\"1\",\"0\"],[35.0,\"Sat\",\"2024-04-27\",\"20:00\",\"Aston Villa\",\"Chelsea\",\"Match Report\",\"2\",\"2\"],[35.0,\"Sun\",\"2024-04-28\",\"14:00\",\"Tottenham\",\"Arsenal\",\"Match Report\",\"2\",\"3\"],[35.0,\"Sun\",\"2024-04-28\",\"14:00\",\"Bournemouth\",\"Brighton\",\"Match Report\",\"3\",\"0\"],[35.0,\"Sun\",\"2024-04-28\",\"16:30\",\"Nott\\'ham Forest\",\"Manchester City\",\"Match Report\",\"0\",\"2\"],[26.0,\"Thu\",\"2024-05-02\",\"19:30\",\"Chelsea\",\"Tottenham\",\"Head-to-Head\",null,null],[36.0,\"Fri\",\"2024-05-03\",\"20:00\",\"Luton Town\",\"Everton\",\"Head-to-Head\",null,null],[36.0,\"Sat\",\"2024-05-04\",\"12:30\",\"Arsenal\",\"Bournemouth\",\"Head-to-Head\",null,null],[36.0,\"Sat\",\"2024-05-04\",\"15:00\",\"Burnley\",\"Newcastle Utd\",\"Head-to-Head\",null,null],[36.0,\"Sat\",\"2024-05-04\",\"15:00\",\"Sheffield Utd\",\"Nott\\'ham Forest\",\"Head-to-Head\",null,null],[36.0,\"Sat\",\"2024-05-04\",\"15:00\",\"Brentford\",\"Fulham\",\"Head-to-Head\",null,null],[36.0,\"Sat\",\"2024-05-04\",\"17:30\",\"Manchester City\",\"Wolves\",\"Head-to-Head\",null,null],[36.0,\"Sun\",\"2024-05-05\",\"14:00\",\"Brighton\",\"Aston Villa\",\"Head-to-Head\",null,null],[36.0,\"Sun\",\"2024-05-05\",\"14:00\",\"Chelsea\",\"West Ham\",\"Head-to-Head\",null,null],[36.0,\"Sun\",\"2024-05-05\",\"16:30\",\"Liverpool\",\"Tottenham\",\"Head-to-Head\",null,null],[36.0,\"Mon\",\"2024-05-06\",\"20:00\",\"Crystal Palace\",\"Manchester Utd\",\"Head-to-Head\",null,null],[37.0,\"Sat\",\"2024-05-11\",\"12:30\",\"Fulham\",\"Manchester City\",\"Head-to-Head\",null,null],[37.0,\"Sat\",\"2024-05-11\",\"15:00\",\"Wolves\",\"Crystal Palace\",\"Head-to-Head\",null,null],[37.0,\"Sat\",\"2024-05-11\",\"15:00\",\"West Ham\",\"Luton Town\",\"Head-to-Head\",null,null],[37.0,\"Sat\",\"2024-05-11\",\"15:00\",\"Tottenham\",\"Burnley\",\"Head-to-Head\",null,null],[37.0,\"Sat\",\"2024-05-11\",\"15:00\",\"Everton\",\"Sheffield Utd\",\"Head-to-Head\",null,null],[37.0,\"Sat\",\"2024-05-11\",\"15:00\",\"Newcastle Utd\",\"Brighton\",\"Head-to-Head\",null,null],[37.0,\"Sat\",\"2024-05-11\",\"15:00\",\"Bournemouth\",\"Brentford\",\"Head-to-Head\",null,null],[37.0,\"Sat\",\"2024-05-11\",\"17:30\",\"Nott\\'ham Forest\",\"Chelsea\",\"Head-to-Head\",null,null],[37.0,\"Sun\",\"2024-05-12\",\"16:30\",\"Manchester Utd\",\"Arsenal\",\"Head-to-Head\",null,null],[37.0,\"Mon\",\"2024-05-13\",\"20:00\",\"Aston Villa\",\"Liverpool\",\"Head-to-Head\",null,null],[34.0,\"Tue\",\"2024-05-14\",\"20:00\",\"Tottenham\",\"Manchester City\",\"Head-to-Head\",null,null],[34.0,\"Wed\",\"2024-05-15\",\"19:45\",\"Brighton\",\"Chelsea\",\"Head-to-Head\",null,null],[34.0,\"Wed\",\"2024-05-15\",\"20:00\",\"Manchester Utd\",\"Newcastle Utd\",\"Head-to-Head\",null,null],[38.0,\"Sun\",\"2024-05-19\",\"16:00\",\"Luton Town\",\"Fulham\",\"Head-to-Head\",null,null],[38.0,\"Sun\",\"2024-05-19\",\"16:00\",\"Sheffield Utd\",\"Tottenham\",\"Head-to-Head\",null,null],[38.0,\"Sun\",\"2024-05-19\",\"16:00\",\"Manchester City\",\"West Ham\",\"Head-to-Head\",null,null],[38.0,\"Sun\",\"2024-05-19\",\"16:00\",\"Arsenal\",\"Everton\",\"Head-to-Head\",null,null],[38.0,\"Sun\",\"2024-05-19\",\"16:00\",\"Brighton\",\"Manchester Utd\",\"Head-to-Head\",null,null],[38.0,\"Sun\",\"2024-05-19\",\"16:00\",\"Brentford\",\"Newcastle Utd\",\"Head-to-Head\",null,null],[38.0,\"Sun\",\"2024-05-19\",\"16:00\",\"Chelsea\",\"Bournemouth\",\"Head-to-Head\",null,null],[38.0,\"Sun\",\"2024-05-19\",\"16:00\",\"Crystal Palace\",\"Aston Villa\",\"Head-to-Head\",null,null],[38.0,\"Sun\",\"2024-05-19\",\"16:00\",\"Liverpool\",\"Wolves\",\"Head-to-Head\",null,null],[38.0,\"Sun\",\"2024-05-19\",\"16:00\",\"Burnley\",\"Nott\\'ham Forest\",\"Head-to-Head\",null,null]]'"
      ]
     },
     "execution_count": 62,
     "metadata": {},
     "output_type": "execute_result"
    }
   ],
   "source": [
    "df.to_json(orient=\"values\")"
   ]
  },
  {
   "cell_type": "code",
   "execution_count": null,
   "metadata": {},
   "outputs": [],
   "source": []
  },
  {
   "cell_type": "code",
   "execution_count": null,
   "metadata": {},
   "outputs": [],
   "source": []
  }
 ],
 "metadata": {
  "kernelspec": {
   "display_name": "Python 3",
   "language": "python",
   "name": "python3"
  },
  "language_info": {
   "codemirror_mode": {
    "name": "ipython",
    "version": 3
   },
   "file_extension": ".py",
   "mimetype": "text/x-python",
   "name": "python",
   "nbconvert_exporter": "python",
   "pygments_lexer": "ipython3",
   "version": "3.11.8"
  }
 },
 "nbformat": 4,
 "nbformat_minor": 2
}
